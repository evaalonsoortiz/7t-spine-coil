{
  "nbformat": 4,
  "nbformat_minor": 0,
  "metadata": {
    "colab": {
      "name": "7t-spine-coil-demo.ipynb",
      "private_outputs": true,
      "provenance": [],
      "collapsed_sections": [],
      "toc_visible": true,
      "authorship_tag": "ABX9TyMO6dBUvoR+jaTj+0OV37l5",
      "include_colab_link": true
    },
    "kernelspec": {
      "name": "python3",
      "display_name": "Python 3"
    },
    "language_info": {
      "name": "python"
    }
  },
  "cells": [
    {
      "cell_type": "markdown",
      "metadata": {
        "id": "view-in-github",
        "colab_type": "text"
      },
      "source": [
        "<a href=\"https://colab.research.google.com/github/evaalonsoortiz/7t-spine-coil/blob/main/7t_spine_coil_demo.ipynb\" target=\"_parent\"><img src=\"https://colab.research.google.com/assets/colab-badge.svg\" alt=\"Open In Colab\"/></a>"
      ]
    },
    {
      "cell_type": "markdown",
      "metadata": {
        "id": "iTKC2dBVcmLo"
      },
      "source": [
        "#7T ACDC Spine Coil"
      ]
    },
    {
      "cell_type": "markdown",
      "metadata": {
        "id": "nbRwbnAHc6Wo"
      },
      "source": [
        "This Colab notebook is a demo for 7T ACDC Spine Coil Evaluation"
      ]
    },
    {
      "cell_type": "markdown",
      "metadata": {
        "id": "l8PlGv4RdPNN"
      },
      "source": [
        "#Setup\n",
        "\n",
        "To setup, we will first clone the 7t-spine-coil and spinalcordtoolbox repos and then instal the spinalcordtoolbox.\n"
      ]
    },
    {
      "cell_type": "code",
      "metadata": {
        "id": "5JQagzfBMLin"
      },
      "source": [
        "! git clone https://github.com/evaalonsoortiz/7t-spine-coil\n",
        "\n",
        "% cd 7t-spine-coil\n",
        "! pip install -r requirements.txt\n",
        "\n",
        "% cd ../\n",
        "\n",
        "!git clone --depth 1 --branch 5.3.0 https://github.com/spinalcordtoolbox/spinalcordtoolbox"
      ],
      "execution_count": null,
      "outputs": []
    },
    {
      "cell_type": "code",
      "metadata": {
        "id": "-NZsf_wm0LYP"
      },
      "source": [
        "# Go to directory and install SCT\n",
        "%cd spinalcordtoolbox/\n",
        "!yes | ./install_sct"
      ],
      "execution_count": null,
      "outputs": []
    },
    {
      "cell_type": "code",
      "metadata": {
        "id": "f4v6DH9i0lXD"
      },
      "source": [
        "# Activate environment\n",
        "import os\n",
        "os.environ['PATH'] += ':/content/spinalcordtoolbox/bin'\n",
        "os.environ['SCT_DIR'] = '/content/spinalcordtoolbox'"
      ],
      "execution_count": null,
      "outputs": []
    },
    {
      "cell_type": "code",
      "metadata": {
        "id": "KsyLcaIpR6_A"
      },
      "source": [
        "%matplotlib inline\n",
        "import numpy as np\n",
        "import matplotlib.pyplot as plt\n",
        "import matplotlib.image as mpimg\n",
        "import nibabel as nib\n",
        "import sys\n",
        "import os\n",
        "import cv2\n",
        "from os.path import join"
      ],
      "execution_count": null,
      "outputs": []
    },
    {
      "cell_type": "markdown",
      "metadata": {
        "id": "VRQSrBdld7m0"
      },
      "source": [
        "# Plot"
      ]
    },
    {
      "cell_type": "code",
      "metadata": {
        "id": "eoHX9EFmTMVF"
      },
      "source": [
        "% cd ../7t-spine-coil\n",
        "\n",
        "img = nib.load('TFL_SAG_2MMISO_384MM_REFV_0008/TFL_SAG_2MMISO_384MM_REFV_0008_tfl_sag_2mmISO_384mm_REFV_20210408113743_8.nii')\n",
        "\n",
        "data = img.get_fdata()\n",
        "data.shape\n",
        "imgplot = plt.imshow(np.rot90(data[:,:,28]))\n",
        "imgplot.set_cmap('gray')\n",
        "plt.axis('off')\n",
        "plt.colorbar()\n",
        "plt.clim(0,900)\n",
        "plt.show()"
      ],
      "execution_count": null,
      "outputs": []
    },
    {
      "cell_type": "code",
      "metadata": {
        "id": "AtTR_dK51mBS"
      },
      "source": [
        "! sct_deepseg_sc -i TFL_SAG_2MMISO_384MM_REFV_0007/TFL_SAG_2MMISO_384MM_REFV_0007_tfl_sag_2mmISO_384mm_REFV_20210408113743_7.nii -c t2s -qc TFL_SAG_2MMISO_384MM_REFV_0007/qc"
      ],
      "execution_count": null,
      "outputs": []
    },
    {
      "cell_type": "code",
      "metadata": {
        "id": "O4cCkHUi4BoH"
      },
      "source": [
        "img = nib.load('TFL_SAG_2MMISO_384MM_REFV_0008/TFL_SAG_2MMISO_384MM_REFV_0008_tfl_sag_2mmISO_384mm_REFV_20210408113743_8.nii')\n",
        "seg = nib.load('TFL_SAG_2MMISO_384MM_REFV_0007_tfl_sag_2mmISO_384mm_REFV_20210408113743_7_seg.nii')\n",
        "\n",
        "img_data = img.get_fdata()\n",
        "seg_data = seg.get_fdata()\n",
        "seg_data = np.ma.masked_where(seg_data < 0.3, seg_data)\n",
        "\n",
        "# Overlay the two images\n",
        "fig, ax = plt.subplots()\n",
        "plt.axis('off')\n",
        "img1 = ax.imshow(np.rot90(img_data[:,:,28]), cmap=plt.cm.gray)\n",
        "ax.imshow(np.rot90(seg_data[:,:,28]), cmap=plt.cm.jet, interpolation='none')\n",
        "plt.colorbar(img1)\n",
        "img1.set_clim(vmin=0, vmax=900)\n",
        "plt.show()\n",
        "\n"
      ],
      "execution_count": null,
      "outputs": []
    }
  ]
}