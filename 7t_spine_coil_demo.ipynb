{
 "cells": [
  {
   "cell_type": "markdown",
   "metadata": {
    "colab_type": "text",
    "id": "view-in-github"
   },
   "source": [
    "<a href=\"https://colab.research.google.com/github/evaalonsoortiz/7t-spine-coil/blob/main/7t_spine_coil_demo.ipynb\" target=\"_parent\"><img src=\"https://colab.research.google.com/assets/colab-badge.svg\" alt=\"Open In Colab\"/></a>"
   ]
  },
  {
   "cell_type": "markdown",
   "metadata": {
    "id": "iTKC2dBVcmLo"
   },
   "source": [
    "#7T ACDC Spine Coil"
   ]
  },
  {
   "cell_type": "markdown",
   "metadata": {
    "id": "nbRwbnAHc6Wo"
   },
   "source": [
    "This Colab notebook is a demo for 7T ACDC Spine Coil Evaluation"
   ]
  },
  {
   "cell_type": "markdown",
   "metadata": {
    "id": "l8PlGv4RdPNN"
   },
   "source": [
    "#Setup\n",
    "\n",
    "To setup, we will install clone the 7t-spine-coil repo. \n"
   ]
  },
  {
   "cell_type": "code",
   "execution_count": 12,
   "metadata": {},
   "outputs": [
    {
     "data": {
      "application/json": {
       "cell": {
        "!": "OSMagics",
        "HTML": "Other",
        "SVG": "Other",
        "bash": "Other",
        "capture": "ExecutionMagics",
        "debug": "ExecutionMagics",
        "file": "Other",
        "html": "DisplayMagics",
        "javascript": "DisplayMagics",
        "js": "DisplayMagics",
        "latex": "DisplayMagics",
        "markdown": "DisplayMagics",
        "perl": "Other",
        "prun": "ExecutionMagics",
        "pypy": "Other",
        "python": "Other",
        "python2": "Other",
        "python3": "Other",
        "ruby": "Other",
        "script": "ScriptMagics",
        "sh": "Other",
        "svg": "DisplayMagics",
        "sx": "OSMagics",
        "system": "OSMagics",
        "time": "ExecutionMagics",
        "timeit": "ExecutionMagics",
        "writefile": "OSMagics"
       },
       "line": {
        "alias": "OSMagics",
        "alias_magic": "BasicMagics",
        "autoawait": "AsyncMagics",
        "autocall": "AutoMagics",
        "automagic": "AutoMagics",
        "autosave": "KernelMagics",
        "bookmark": "OSMagics",
        "cat": "Other",
        "cd": "OSMagics",
        "clear": "KernelMagics",
        "colors": "BasicMagics",
        "conda": "PackagingMagics",
        "config": "ConfigMagics",
        "connect_info": "KernelMagics",
        "cp": "Other",
        "debug": "ExecutionMagics",
        "dhist": "OSMagics",
        "dirs": "OSMagics",
        "doctest_mode": "BasicMagics",
        "ed": "Other",
        "edit": "KernelMagics",
        "env": "OSMagics",
        "gui": "BasicMagics",
        "hist": "Other",
        "history": "HistoryMagics",
        "killbgscripts": "ScriptMagics",
        "ldir": "Other",
        "less": "KernelMagics",
        "lf": "Other",
        "lk": "Other",
        "ll": "Other",
        "load": "CodeMagics",
        "load_ext": "ExtensionMagics",
        "loadpy": "CodeMagics",
        "logoff": "LoggingMagics",
        "logon": "LoggingMagics",
        "logstart": "LoggingMagics",
        "logstate": "LoggingMagics",
        "logstop": "LoggingMagics",
        "ls": "Other",
        "lsmagic": "BasicMagics",
        "lx": "Other",
        "macro": "ExecutionMagics",
        "magic": "BasicMagics",
        "man": "KernelMagics",
        "matplotlib": "PylabMagics",
        "mkdir": "Other",
        "more": "KernelMagics",
        "mv": "Other",
        "notebook": "BasicMagics",
        "page": "BasicMagics",
        "pastebin": "CodeMagics",
        "pdb": "ExecutionMagics",
        "pdef": "NamespaceMagics",
        "pdoc": "NamespaceMagics",
        "pfile": "NamespaceMagics",
        "pinfo": "NamespaceMagics",
        "pinfo2": "NamespaceMagics",
        "pip": "PackagingMagics",
        "popd": "OSMagics",
        "pprint": "BasicMagics",
        "precision": "BasicMagics",
        "prun": "ExecutionMagics",
        "psearch": "NamespaceMagics",
        "psource": "NamespaceMagics",
        "pushd": "OSMagics",
        "pwd": "OSMagics",
        "pycat": "OSMagics",
        "pylab": "PylabMagics",
        "qtconsole": "KernelMagics",
        "quickref": "BasicMagics",
        "recall": "HistoryMagics",
        "rehashx": "OSMagics",
        "reload_ext": "ExtensionMagics",
        "rep": "Other",
        "rerun": "HistoryMagics",
        "reset": "NamespaceMagics",
        "reset_selective": "NamespaceMagics",
        "rm": "Other",
        "rmdir": "Other",
        "run": "ExecutionMagics",
        "save": "CodeMagics",
        "sc": "OSMagics",
        "set_env": "OSMagics",
        "store": "StoreMagics",
        "sx": "OSMagics",
        "system": "OSMagics",
        "tb": "ExecutionMagics",
        "time": "ExecutionMagics",
        "timeit": "ExecutionMagics",
        "unalias": "OSMagics",
        "unload_ext": "ExtensionMagics",
        "who": "NamespaceMagics",
        "who_ls": "NamespaceMagics",
        "whos": "NamespaceMagics",
        "xdel": "NamespaceMagics",
        "xmode": "BasicMagics"
       }
      },
      "text/plain": [
       "Available line magics:\n",
       "%alias  %alias_magic  %autoawait  %autocall  %automagic  %autosave  %bookmark  %cat  %cd  %clear  %colors  %conda  %config  %connect_info  %cp  %debug  %dhist  %dirs  %doctest_mode  %ed  %edit  %env  %gui  %hist  %history  %killbgscripts  %ldir  %less  %lf  %lk  %ll  %load  %load_ext  %loadpy  %logoff  %logon  %logstart  %logstate  %logstop  %ls  %lsmagic  %lx  %macro  %magic  %man  %matplotlib  %mkdir  %more  %mv  %notebook  %page  %pastebin  %pdb  %pdef  %pdoc  %pfile  %pinfo  %pinfo2  %pip  %popd  %pprint  %precision  %prun  %psearch  %psource  %pushd  %pwd  %pycat  %pylab  %qtconsole  %quickref  %recall  %rehashx  %reload_ext  %rep  %rerun  %reset  %reset_selective  %rm  %rmdir  %run  %save  %sc  %set_env  %store  %sx  %system  %tb  %time  %timeit  %unalias  %unload_ext  %who  %who_ls  %whos  %xdel  %xmode\n",
       "\n",
       "Available cell magics:\n",
       "%%!  %%HTML  %%SVG  %%bash  %%capture  %%debug  %%file  %%html  %%javascript  %%js  %%latex  %%markdown  %%perl  %%prun  %%pypy  %%python  %%python2  %%python3  %%ruby  %%script  %%sh  %%svg  %%sx  %%system  %%time  %%timeit  %%writefile\n",
       "\n",
       "Automagic is ON, % prefix IS NOT needed for line magics."
      ]
     },
     "execution_count": 12,
     "metadata": {},
     "output_type": "execute_result"
    }
   ],
   "source": [
    "%lsmagic"
   ]
  },
  {
   "cell_type": "code",
   "execution_count": 19,
   "metadata": {
    "colab": {
     "base_uri": "https://localhost:8080/"
    },
    "id": "5JQagzfBMLin",
    "outputId": "709e1839-5d1d-49bd-bbef-47b93ab56982"
   },
   "outputs": [
    {
     "name": "stdout",
     "output_type": "stream",
     "text": [
      "Cloning into 'spinalcordtoolbox'...\n",
      "remote: Enumerating objects: 56190, done.\u001b[K\n",
      "remote: Counting objects: 100% (823/823), done.\u001b[K\n",
      "remote: Compressing objects: 100% (300/300), done.\u001b[K\n",
      "remote: Total 56190 (delta 597), reused 652 (delta 513), pack-reused 55367\u001b[K\n",
      "Receiving objects: 100% (56190/56190), 116.45 MiB | 33.70 MiB/s, done.\n",
      "Resolving deltas: 100% (31651/31651), done.\n",
      "/home/jovyan/spinalcordtoolbox/spinalcordtoolbox/spinalcordtoolbox\n",
      "\u001b[0m\u001b[01;32mbatch_processing.sh\u001b[0m*  \u001b[01;34mdev\u001b[0m/            LICENSE           \u001b[01;34mspinalcordtoolbox\u001b[0m/\n",
      "CHANGES.md            \u001b[01;34mdocumentation\u001b[0m/  MANIFEST.in       \u001b[01;34mtesting\u001b[0m/\n",
      "CODE_OF_CONDUCT.md    \u001b[01;34mflirtsch\u001b[0m/       README.rst        \u001b[01;34mtests\u001b[0m/\n",
      "conftest.py           \u001b[01;34minstall\u001b[0m/        requirements.txt  \u001b[01;34munit_testing\u001b[0m/\n",
      "\u001b[01;34mcontrib\u001b[0m/              \u001b[01;32minstall_sct\u001b[0m*    setup.cfg\n",
      "CONTRIBUTING.rst      \u001b[01;34missues\u001b[0m/         setup.py\n",
      "/bin/bash: install_sct: command not found\n"
     ]
    }
   ],
   "source": [
    "#! git clone https://github.com/evaalonsoortiz/7t-spine-coil\n",
    "\n",
    "#! pip install transforms3d\n",
    "#! pip install wquantiles\n",
    "\n",
    "! git clone https://github.com/spinalcordtoolbox/spinalcordtoolbox\n",
    "%cd spinalcordtoolbox\n",
    "%ls\n",
    "!install_sct"
   ]
  },
  {
   "cell_type": "code",
   "execution_count": 5,
   "metadata": {
    "colab": {
     "base_uri": "https://localhost:8080/"
    },
    "id": "KsyLcaIpR6_A",
    "outputId": "46f659cb-4b35-4e8c-a394-c3ab9c915b0e"
   },
   "outputs": [
    {
     "data": {
      "text/plain": [
       "('/home', 'jovyan')"
      ]
     },
     "execution_count": 5,
     "metadata": {},
     "output_type": "execute_result"
    }
   ],
   "source": [
    "%matplotlib inline\n",
    "import numpy as np\n",
    "import matplotlib.pyplot as plt\n",
    "import matplotlib.image as mpimg\n",
    "import nibabel as nib\n",
    "import sys\n",
    "import os\n",
    "from os.path import join\n",
    "\n",
    "base_path = os.getcwd() \n",
    "parent_dirs = os.path.split(base_path)\n",
    "\n",
    "base_path\n",
    "parent_dirs"
   ]
  },
  {
   "cell_type": "markdown",
   "metadata": {
    "id": "VRQSrBdld7m0"
   },
   "source": [
    "# Plot"
   ]
  },
  {
   "cell_type": "code",
   "execution_count": 6,
   "metadata": {
    "colab": {
     "base_uri": "https://localhost:8080/",
     "height": 275
    },
    "id": "eoHX9EFmTMVF",
    "outputId": "c2549d85-2be1-4f42-d055-85cda25a1385"
   },
   "outputs": [
    {
     "data": {
      "image/png": "[encoded data removed]",
      "text/plain": [
       "<Figure size 432x288 with 2 Axes>"
      ]
     },
     "metadata": {
      "needs_background": "light"
     },
     "output_type": "display_data"
    }
   ],
   "source": [
    "#! cd ../7t-spine-coil\n",
    "\n",
    "img = nib.load('TFL_SAG_2MMISO_384MM_REFV_0008/TFL_SAG_2MMISO_384MM_REFV_0008_tfl_sag_2mmISO_384mm_REFV_20210408113743_8.nii')\n",
    "\n",
    "data = img.get_fdata()\n",
    "data.shape\n",
    "imgplot = plt.imshow(np.rot90(data[:,:,28]))\n",
    "imgplot.set_cmap('gray')\n",
    "plt.axis('off')\n",
    "plt.colorbar()\n",
    "plt.clim(0,900)\n",
    "plt.show()"
   ]
  },
  {
   "cell_type": "code",
   "execution_count": 7,
   "metadata": {
    "colab": {
     "base_uri": "https://localhost:8080/"
    },
    "id": "Dojk8bH7UgGD",
    "outputId": "25404be6-5981-447a-ae71-d82afb6d543a"
   },
   "outputs": [
    {
     "name": "stdout",
     "output_type": "stream",
     "text": [
      "/bin/bash: sct_deepseg_sc: command not found\r\n"
     ]
    }
   ],
   "source": [
    "# Folder/filename config\n",
    "#parent_dirs = os.path.split(base_path)\n",
    "#t2s_folder_relative = os.path.join('7t-spine-coil/TFL_SAG_2MMISO_384MM_REFV_0007')\n",
    "#qc_path = os.path.join(base_path, 'qc')\n",
    "\n",
    "#t2s = 'TFL_SAG_2MMISO_384MM_REFV_0007_tfl_sag_2mmISO_384mm_REFV_20210408113743_7'\n",
    "\n",
    "#file_ext = '.nii.gz'\n",
    "\n",
    "# Segment spinal cord\n",
    "#!sct_deepseg_sc -i {t1s+file_ext} -c t2s -qc {qc_path}\n",
    "\n",
    "\n",
    "! sct_deepseg_sc -i 'TFL_SAG_2MMISO_384MM_REFV_0008/TFL_SAG_2MMISO_384MM_REFV_0008_tfl_sag_2mmISO_384mm_REFV_20210408113743_8.nii' -c t2s -qc qc"
   ]
  },
  {
   "cell_type": "code",
   "execution_count": 16,
   "metadata": {},
   "outputs": [
    {
     "name": "stdout",
     "output_type": "stream",
     "text": [
      "\n",
      "--\n",
      "Spinal Cord Toolbox (5.2.0)\n",
      "\n",
      "sct_extract_metric -i TFL_SAG_2MMISO_384MM_REFV_0008/TFL_SAG_2MMISO_384MM_REFV_0008_tfl_sag_2mmISO_384mm_REFV_20210408113743_8.nii -f TFL_SAG_2MMISO_384MM_REFV_0007/TFL_SAG_2MMISO_384MM_REFV_0007_tfl_sag_2mmISO_384mm_REFV_20210408113743_7_seg.nii -method wa\n",
      "--\n",
      "\n",
      "\u001b[0m\n",
      "Load metric image...\u001b[0m\n",
      "\u001b[0mEstimation for label: TFL_SAG_2MMISO_384MM_REFV_0007_tfl_sag_2mmISO_384mm_REFV_20210408113743_7_seg\u001b[0m\n",
      "\u001b[0m\n",
      "Done! To view results, type:\u001b[0m\n",
      "\u001b[92mopen extract_metric.csv\n",
      "\u001b[0m\n"
     ]
    }
   ],
   "source": [
    "!  sct_extract_metric -i TFL_SAG_2MMISO_384MM_REFV_0008/TFL_SAG_2MMISO_384MM_REFV_0008_tfl_sag_2mmISO_384mm_REFV_20210408113743_8.nii -f TFL_SAG_2MMISO_384MM_REFV_0007/TFL_SAG_2MMISO_384MM_REFV_0007_tfl_sag_2mmISO_384mm_REFV_20210408113743_7_seg.nii -method wa"
   ]
  },
  {
   "cell_type": "code",
   "execution_count": 17,
   "metadata": {},
   "outputs": [
    {
     "data": {
      "text/html": [
       "<div>\n",
       "<style scoped>\n",
       "    .dataframe tbody tr th:only-of-type {\n",
       "        vertical-align: middle;\n",
       "    }\n",
       "\n",
       "    .dataframe tbody tr th {\n",
       "        vertical-align: top;\n",
       "    }\n",
       "\n",
       "    .dataframe thead th {\n",
       "        text-align: right;\n",
       "    }\n",
       "</style>\n",
       "<table border=\"1\" class=\"dataframe\">\n",
       "  <thead>\n",
       "    <tr style=\"text-align: right;\">\n",
       "      <th></th>\n",
       "      <th>Timestamp</th>\n",
       "      <th>SCT Version</th>\n",
       "      <th>Filename</th>\n",
       "      <th>Slice (I-&gt;S)</th>\n",
       "      <th>VertLevel</th>\n",
       "      <th>Label</th>\n",
       "      <th>Size [vox]</th>\n",
       "      <th>WA()</th>\n",
       "      <th>STD()</th>\n",
       "    </tr>\n",
       "  </thead>\n",
       "  <tbody>\n",
       "    <tr>\n",
       "      <th>0</th>\n",
       "      <td>2021-05-13 23:20:49</td>\n",
       "      <td>5.2.0</td>\n",
       "      <td>/Users/evaalonsoortiz/Documents/Academic/Postd...</td>\n",
       "      <td>0</td>\n",
       "      <td>NaN</td>\n",
       "      <td>TFL_SAG_2MMISO_384MM_REFV_0007_tfl_sag_2mmISO_...</td>\n",
       "      <td>0</td>\n",
       "      <td>None</td>\n",
       "      <td>None</td>\n",
       "    </tr>\n",
       "    <tr>\n",
       "      <th>1</th>\n",
       "      <td>2021-05-13 23:20:49</td>\n",
       "      <td>5.2.0</td>\n",
       "      <td>/Users/evaalonsoortiz/Documents/Academic/Postd...</td>\n",
       "      <td>1</td>\n",
       "      <td>NaN</td>\n",
       "      <td>TFL_SAG_2MMISO_384MM_REFV_0007_tfl_sag_2mmISO_...</td>\n",
       "      <td>0</td>\n",
       "      <td>None</td>\n",
       "      <td>None</td>\n",
       "    </tr>\n",
       "    <tr>\n",
       "      <th>2</th>\n",
       "      <td>2021-05-13 23:20:49</td>\n",
       "      <td>5.2.0</td>\n",
       "      <td>/Users/evaalonsoortiz/Documents/Academic/Postd...</td>\n",
       "      <td>2</td>\n",
       "      <td>NaN</td>\n",
       "      <td>TFL_SAG_2MMISO_384MM_REFV_0007_tfl_sag_2mmISO_...</td>\n",
       "      <td>0</td>\n",
       "      <td>None</td>\n",
       "      <td>None</td>\n",
       "    </tr>\n",
       "    <tr>\n",
       "      <th>3</th>\n",
       "      <td>2021-05-13 23:20:49</td>\n",
       "      <td>5.2.0</td>\n",
       "      <td>/Users/evaalonsoortiz/Documents/Academic/Postd...</td>\n",
       "      <td>3</td>\n",
       "      <td>NaN</td>\n",
       "      <td>TFL_SAG_2MMISO_384MM_REFV_0007_tfl_sag_2mmISO_...</td>\n",
       "      <td>0</td>\n",
       "      <td>None</td>\n",
       "      <td>None</td>\n",
       "    </tr>\n",
       "    <tr>\n",
       "      <th>4</th>\n",
       "      <td>2021-05-13 23:20:49</td>\n",
       "      <td>5.2.0</td>\n",
       "      <td>/Users/evaalonsoortiz/Documents/Academic/Postd...</td>\n",
       "      <td>4</td>\n",
       "      <td>NaN</td>\n",
       "      <td>TFL_SAG_2MMISO_384MM_REFV_0007_tfl_sag_2mmISO_...</td>\n",
       "      <td>0</td>\n",
       "      <td>None</td>\n",
       "      <td>None</td>\n",
       "    </tr>\n",
       "    <tr>\n",
       "      <th>5</th>\n",
       "      <td>2021-05-13 23:20:49</td>\n",
       "      <td>5.2.0</td>\n",
       "      <td>/Users/evaalonsoortiz/Documents/Academic/Postd...</td>\n",
       "      <td>5</td>\n",
       "      <td>NaN</td>\n",
       "      <td>TFL_SAG_2MMISO_384MM_REFV_0007_tfl_sag_2mmISO_...</td>\n",
       "      <td>0</td>\n",
       "      <td>None</td>\n",
       "      <td>None</td>\n",
       "    </tr>\n",
       "    <tr>\n",
       "      <th>6</th>\n",
       "      <td>2021-05-13 23:20:49</td>\n",
       "      <td>5.2.0</td>\n",
       "      <td>/Users/evaalonsoortiz/Documents/Academic/Postd...</td>\n",
       "      <td>6</td>\n",
       "      <td>NaN</td>\n",
       "      <td>TFL_SAG_2MMISO_384MM_REFV_0007_tfl_sag_2mmISO_...</td>\n",
       "      <td>0</td>\n",
       "      <td>None</td>\n",
       "      <td>None</td>\n",
       "    </tr>\n",
       "    <tr>\n",
       "      <th>7</th>\n",
       "      <td>2021-05-13 23:20:49</td>\n",
       "      <td>5.2.0</td>\n",
       "      <td>/Users/evaalonsoortiz/Documents/Academic/Postd...</td>\n",
       "      <td>7</td>\n",
       "      <td>NaN</td>\n",
       "      <td>TFL_SAG_2MMISO_384MM_REFV_0007_tfl_sag_2mmISO_...</td>\n",
       "      <td>0</td>\n",
       "      <td>None</td>\n",
       "      <td>None</td>\n",
       "    </tr>\n",
       "    <tr>\n",
       "      <th>8</th>\n",
       "      <td>2021-05-13 23:20:49</td>\n",
       "      <td>5.2.0</td>\n",
       "      <td>/Users/evaalonsoortiz/Documents/Academic/Postd...</td>\n",
       "      <td>8</td>\n",
       "      <td>NaN</td>\n",
       "      <td>TFL_SAG_2MMISO_384MM_REFV_0007_tfl_sag_2mmISO_...</td>\n",
       "      <td>0</td>\n",
       "      <td>None</td>\n",
       "      <td>None</td>\n",
       "    </tr>\n",
       "    <tr>\n",
       "      <th>9</th>\n",
       "      <td>2021-05-13 23:20:49</td>\n",
       "      <td>5.2.0</td>\n",
       "      <td>/Users/evaalonsoortiz/Documents/Academic/Postd...</td>\n",
       "      <td>9</td>\n",
       "      <td>NaN</td>\n",
       "      <td>TFL_SAG_2MMISO_384MM_REFV_0007_tfl_sag_2mmISO_...</td>\n",
       "      <td>0</td>\n",
       "      <td>None</td>\n",
       "      <td>None</td>\n",
       "    </tr>\n",
       "  </tbody>\n",
       "</table>\n",
       "</div>"
      ],
      "text/plain": [
       "             Timestamp SCT Version  \\\n",
       "0  2021-05-13 23:20:49       5.2.0   \n",
       "1  2021-05-13 23:20:49       5.2.0   \n",
       "2  2021-05-13 23:20:49       5.2.0   \n",
       "3  2021-05-13 23:20:49       5.2.0   \n",
       "4  2021-05-13 23:20:49       5.2.0   \n",
       "5  2021-05-13 23:20:49       5.2.0   \n",
       "6  2021-05-13 23:20:49       5.2.0   \n",
       "7  2021-05-13 23:20:49       5.2.0   \n",
       "8  2021-05-13 23:20:49       5.2.0   \n",
       "9  2021-05-13 23:20:49       5.2.0   \n",
       "\n",
       "                                            Filename  Slice (I->S)  VertLevel  \\\n",
       "0  /Users/evaalonsoortiz/Documents/Academic/Postd...             0        NaN   \n",
       "1  /Users/evaalonsoortiz/Documents/Academic/Postd...             1        NaN   \n",
       "2  /Users/evaalonsoortiz/Documents/Academic/Postd...             2        NaN   \n",
       "3  /Users/evaalonsoortiz/Documents/Academic/Postd...             3        NaN   \n",
       "4  /Users/evaalonsoortiz/Documents/Academic/Postd...             4        NaN   \n",
       "5  /Users/evaalonsoortiz/Documents/Academic/Postd...             5        NaN   \n",
       "6  /Users/evaalonsoortiz/Documents/Academic/Postd...             6        NaN   \n",
       "7  /Users/evaalonsoortiz/Documents/Academic/Postd...             7        NaN   \n",
       "8  /Users/evaalonsoortiz/Documents/Academic/Postd...             8        NaN   \n",
       "9  /Users/evaalonsoortiz/Documents/Academic/Postd...             9        NaN   \n",
       "\n",
       "                                               Label  Size [vox]  WA() STD()  \n",
       "0  TFL_SAG_2MMISO_384MM_REFV_0007_tfl_sag_2mmISO_...           0  None  None  \n",
       "1  TFL_SAG_2MMISO_384MM_REFV_0007_tfl_sag_2mmISO_...           0  None  None  \n",
       "2  TFL_SAG_2MMISO_384MM_REFV_0007_tfl_sag_2mmISO_...           0  None  None  \n",
       "3  TFL_SAG_2MMISO_384MM_REFV_0007_tfl_sag_2mmISO_...           0  None  None  \n",
       "4  TFL_SAG_2MMISO_384MM_REFV_0007_tfl_sag_2mmISO_...           0  None  None  \n",
       "5  TFL_SAG_2MMISO_384MM_REFV_0007_tfl_sag_2mmISO_...           0  None  None  \n",
       "6  TFL_SAG_2MMISO_384MM_REFV_0007_tfl_sag_2mmISO_...           0  None  None  \n",
       "7  TFL_SAG_2MMISO_384MM_REFV_0007_tfl_sag_2mmISO_...           0  None  None  \n",
       "8  TFL_SAG_2MMISO_384MM_REFV_0007_tfl_sag_2mmISO_...           0  None  None  \n",
       "9  TFL_SAG_2MMISO_384MM_REFV_0007_tfl_sag_2mmISO_...           0  None  None  "
      ]
     },
     "execution_count": 17,
     "metadata": {},
     "output_type": "execute_result"
    }
   ],
   "source": [
    "import pandas as pd\n",
    "\n",
    "df = pd.read_csv(\"extract_metric.csv\", sep=\",\")\n",
    "# shows top 10 rows\n",
    "df.head(10)"
   ]
  },
  {
   "cell_type": "code",
   "execution_count": null,
   "metadata": {},
   "outputs": [],
   "source": []
  }
 ],
 "metadata": {
  "colab": {
   "authorship_tag": "ABX9TyOS7Hw3bVAc7qjEBtu776J0",
   "include_colab_link": true,
   "name": "7t-spine-coil-demo.ipynb",
   "provenance": [],
   "toc_visible": true
  },
  "kernelspec": {
   "display_name": "Python 3",
   "language": "python",
   "name": "python3"
  },
  "language_info": {
   "codemirror_mode": {
    "name": "ipython",
    "version": 3
   },
   "file_extension": ".py",
   "mimetype": "text/x-python",
   "name": "python",
   "nbconvert_exporter": "python",
   "pygments_lexer": "ipython3",
   "version": "3.7.8"
  }
 },
 "nbformat": 4,
 "nbformat_minor": 1
}
