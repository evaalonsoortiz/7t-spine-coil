{
  "nbformat": 4,
  "nbformat_minor": 0,
  "metadata": {
    "colab": {
      "name": "7t-spine-coil-demo.ipynb",
      "private_outputs": true,
      "provenance": [],
      "collapsed_sections": [],
      "toc_visible": true,
      "authorship_tag": "ABX9TyMfi+gR1pJ8ld+QanT+YImj",
      "include_colab_link": true
    },
    "kernelspec": {
      "name": "python3",
      "display_name": "Python 3"
    },
    "language_info": {
      "name": "python"
    },
    "accelerator": "GPU"
  },
  "cells": [
    {
      "cell_type": "markdown",
      "metadata": {
        "id": "view-in-github",
        "colab_type": "text"
      },
      "source": [
        "<a href=\"https://colab.research.google.com/github/evaalonsoortiz/7t-spine-coil/blob/main/7t_spine_coil_demo.ipynb\" target=\"_parent\"><img src=\"https://colab.research.google.com/assets/colab-badge.svg\" alt=\"Open In Colab\"/></a>"
      ]
    },
    {
      "cell_type": "markdown",
      "metadata": {
        "id": "iTKC2dBVcmLo"
      },
      "source": [
        "#7T ACDC Spine Coil"
      ]
    },
    {
      "cell_type": "markdown",
      "metadata": {
        "id": "nbRwbnAHc6Wo"
      },
      "source": [
        "This Colab notebook is a demo for 7T ACDC Spine Coil Evaluation"
      ]
    },
    {
      "cell_type": "markdown",
      "metadata": {
        "id": "l8PlGv4RdPNN"
      },
      "source": [
        "#Setup\n",
        "\n",
        "To setup, we will install clone the 7t-spine-coil repo. \n"
      ]
    },
    {
      "cell_type": "code",
      "metadata": {
        "id": "5JQagzfBMLin"
      },
      "source": [
        "! git clone https://github.com/evaalonsoortiz/7t-spine-coil\n",
        "\n",
        "% cd 7t-spine-coil\n",
        "! pip install -r requirements.txt\n",
        "\n",
        "% cd ../\n",
        "! pip install transforms3d\n",
        "! pip install wquantiles\n",
        "\n",
        "! git clone https://github.com/spinalcordtoolbox/spinalcordtoolbox\n",
        "% cd spinalcordtoolbox\n",
        "! pip install -e ."
      ],
      "execution_count": null,
      "outputs": []
    },
    {
      "cell_type": "code",
      "metadata": {
        "id": "KsyLcaIpR6_A"
      },
      "source": [
        "%matplotlib inline\n",
        "import numpy as np\n",
        "import matplotlib.pyplot as plt\n",
        "import matplotlib.image as mpimg\n",
        "import nibabel as nib\n",
        "import sys\n",
        "import os\n",
        "from os.path import join\n",
        "\n",
        "base_path = os.getcwd() \n",
        "\n",
        "# Download example data\n",
        "!sct_download_data -d sct_example_data\n",
        "\n",
        "# Go to MT folder\n",
        "os.chdir('sct_example_data/mt/')"
      ],
      "execution_count": null,
      "outputs": []
    },
    {
      "cell_type": "code",
      "metadata": {
        "id": "IAu9psYkkqHu"
      },
      "source": [
        "# Jupyter Notebook config\n",
        "verbose = True # False clears cells\n",
        "\n",
        "# Folder/filename config\n",
        "parent_dirs = os.path.split(base_path)\n",
        "mt_folder_relative = os.path.join('sct_example_data/mt')\n",
        "qc_path = os.path.join(base_path, 'qc')\n",
        "\n",
        "t1w = 't1w'\n",
        "mt0 = 'mt0'\n",
        "mt1 = 'mt1'\n",
        "label_c3c4 = 'label_c3c4'\n",
        "warp_template2anat = 'warp_template2anat'\n",
        "mtr = 'mtr'\n",
        "mtsat = 'mtsat'\n",
        "t1map = 't1map'\n",
        "\n",
        "file_ext = '.nii.gz'\n",
        "\n",
        "if not verbose:\n",
        "    clear_output()\n",
        "\n",
        "# Segment spinal cord\n",
        "!sct_deepseg_sc -i {t1w+file_ext} -c t1 -qc {qc_path}\n",
        "\n",
        "if not verbose:\n",
        "    clear_output()"
      ],
      "execution_count": null,
      "outputs": []
    },
    {
      "cell_type": "markdown",
      "metadata": {
        "id": "VRQSrBdld7m0"
      },
      "source": [
        "# Plot"
      ]
    },
    {
      "cell_type": "code",
      "metadata": {
        "id": "eoHX9EFmTMVF"
      },
      "source": [
        "% cd ../../../7t-spine-coil\n",
        "\n",
        "img = nib.load('TFL_SAG_2MMISO_384MM_REFV_0008/TFL_SAG_2MMISO_384MM_REFV_0008_tfl_sag_2mmISO_384mm_REFV_20210408113743_8.nii')\n",
        "\n",
        "data = img.get_fdata()\n",
        "data.shape\n",
        "imgplot = plt.imshow(np.rot90(data[:,:,28]))\n",
        "imgplot.set_cmap('gray')\n",
        "plt.axis('off')\n",
        "plt.colorbar()\n",
        "plt.clim(0,900)\n",
        "plt.show()"
      ],
      "execution_count": null,
      "outputs": []
    },
    {
      "cell_type": "code",
      "metadata": {
        "id": "Dojk8bH7UgGD"
      },
      "source": [
        "% cd TFL_SAG_2MMISO_384MM_REFV_0007/\n",
        "! sct_deepseg_sc -i TFL_SAG_2MMISO_384MM_REFV_0007_tfl_sag_2mmISO_384mm_REFV_20210408113743_7.nii -c t2s -qc qc"
      ],
      "execution_count": null,
      "outputs": []
    }
  ]
}